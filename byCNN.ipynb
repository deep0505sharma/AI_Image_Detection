{
 "cells": [
  {
   "cell_type": "code",
   "execution_count": 1,
   "metadata": {},
   "outputs": [],
   "source": [
    "import numpy as np\n",
    "import pandas as pd\n",
    "from sklearn.metrics import accuracy_score,confusion_matrix"
   ]
  },
  {
   "cell_type": "code",
   "execution_count": 8,
   "metadata": {},
   "outputs": [],
   "source": [
    "df = pd.read_csv('train.csv')"
   ]
  },
  {
   "cell_type": "code",
   "execution_count": 11,
   "metadata": {},
   "outputs": [
    {
     "data": {
      "text/plain": [
       "(5250, 1200)"
      ]
     },
     "execution_count": 11,
     "metadata": {},
     "output_type": "execute_result"
    }
   ],
   "source": [
    "X = df.drop('labels',axis = 1).to_numpy()\n",
    "Y = df['labels']\n",
    "X.shape"
   ]
  },
  {
   "cell_type": "code",
   "execution_count": 13,
   "metadata": {},
   "outputs": [
    {
     "data": {
      "text/plain": [
       "(5250, 20, 20, 3)"
      ]
     },
     "execution_count": 13,
     "metadata": {},
     "output_type": "execute_result"
    }
   ],
   "source": [
    "result_X = X.reshape(-1,20,20,3)\n",
    "result_X.shape"
   ]
  },
  {
   "cell_type": "code",
   "execution_count": 14,
   "metadata": {},
   "outputs": [
    {
     "data": {
      "text/plain": [
       "((4200, 20, 20, 3), (1050, 20, 20, 3), (4200,))"
      ]
     },
     "execution_count": 14,
     "metadata": {},
     "output_type": "execute_result"
    }
   ],
   "source": [
    "from sklearn.model_selection import train_test_split\n",
    "train,test,Y_train,Y_tests = train_test_split(result_X,Y, test_size=0.2, random_state = 20113046)\n",
    "train.shape,test.shape,Y_train.shape"
   ]
  },
  {
   "cell_type": "code",
   "execution_count": 15,
   "metadata": {},
   "outputs": [],
   "source": [
    "import keras\n",
    "from keras.models import Sequential\n",
    "from keras.utils import to_categorical\n",
    "from keras.layers import Dense, Conv2D, MaxPooling2D, Dropout, Flatten"
   ]
  },
  {
   "cell_type": "code",
   "execution_count": 16,
   "metadata": {},
   "outputs": [],
   "source": [
    "nRows,nCols,nDims = train.shape[1:]\n",
    "train_data = train.reshape(train.shape[0], nRows, nCols, nDims)\n",
    "test_data = test.reshape(test.shape[0], nRows, nCols, nDims)\n",
    "input_shape = (nRows, nCols, nDims)\n",
    "\n",
    "train_data = train_data.astype('float32')\n",
    "test_data = test_data.astype('float32')"
   ]
  },
  {
   "cell_type": "code",
   "execution_count": 17,
   "metadata": {},
   "outputs": [],
   "source": [
    "train_data /= 255\n",
    "test_data /= 255\n",
    "\n",
    "train_labels_one_hot = to_categorical(Y_train)\n",
    "test_labels_one_hot = to_categorical(Y_tests)"
   ]
  },
  {
   "cell_type": "code",
   "execution_count": 19,
   "metadata": {},
   "outputs": [],
   "source": [
    "def createModel():\n",
    "    model = Sequential()\n",
    "    # The first two layers with 32 filters of window size 3x3\n",
    "    model.add(Conv2D(32, (3, 3), padding='same', activation='relu', input_shape=input_shape))\n",
    "    model.add(Conv2D(32, (3, 3), activation='relu'))\n",
    "    model.add(MaxPooling2D(pool_size=(1, 1)))\n",
    "    model.add(Dropout(0.25))\n",
    "\n",
    "    model.add(Conv2D(64, (3, 3), padding='same', activation='relu'))\n",
    "    model.add(Conv2D(64, (3, 3), activation='relu'))\n",
    "    model.add(MaxPooling2D(pool_size=(1, 1)))\n",
    "    model.add(Dropout(0.25))\n",
    "\n",
    "    model.add(Conv2D(64, (3, 3), padding='same', activation='relu'))\n",
    "    model.add(Conv2D(64, (3, 3), activation='relu'))\n",
    "    model.add(MaxPooling2D(pool_size=(1, 1)))\n",
    "    model.add(Dropout(0.25))\n",
    "\n",
    "    model.add(Flatten())\n",
    "    model.add(Dense(200, activation='relu'))\n",
    "    model.add(Dropout(0.5))\n",
    "    model.add(Dense(1, activation='softmax'))\n",
    "    \n",
    "    return model"
   ]
  },
  {
   "cell_type": "code",
   "execution_count": 20,
   "metadata": {},
   "outputs": [],
   "source": [
    "model1 = createModel()\n",
    "batch_size = 32\n",
    "epochs = 50\n",
    "model1.compile(optimizer='adam', loss='binary_crossentropy', metrics=['accuracy'])"
   ]
  },
  {
   "cell_type": "code",
   "execution_count": 21,
   "metadata": {},
   "outputs": [
    {
     "name": "stdout",
     "output_type": "stream",
     "text": [
      "Model: \"sequential\"\n",
      "_________________________________________________________________\n",
      " Layer (type)                Output Shape              Param #   \n",
      "=================================================================\n",
      " conv2d (Conv2D)             (None, 20, 20, 32)        896       \n",
      "                                                                 \n",
      " conv2d_1 (Conv2D)           (None, 18, 18, 32)        9248      \n",
      "                                                                 \n",
      " max_pooling2d (MaxPooling2D  (None, 18, 18, 32)       0         \n",
      " )                                                               \n",
      "                                                                 \n",
      " dropout (Dropout)           (None, 18, 18, 32)        0         \n",
      "                                                                 \n",
      " conv2d_2 (Conv2D)           (None, 18, 18, 64)        18496     \n",
      "                                                                 \n",
      " conv2d_3 (Conv2D)           (None, 16, 16, 64)        36928     \n",
      "                                                                 \n",
      " max_pooling2d_1 (MaxPooling  (None, 16, 16, 64)       0         \n",
      " 2D)                                                             \n",
      "                                                                 \n",
      " dropout_1 (Dropout)         (None, 16, 16, 64)        0         \n",
      "                                                                 \n",
      " conv2d_4 (Conv2D)           (None, 16, 16, 64)        36928     \n",
      "                                                                 \n",
      " conv2d_5 (Conv2D)           (None, 14, 14, 64)        36928     \n",
      "                                                                 \n",
      " max_pooling2d_2 (MaxPooling  (None, 14, 14, 64)       0         \n",
      " 2D)                                                             \n",
      "                                                                 \n",
      " dropout_2 (Dropout)         (None, 14, 14, 64)        0         \n",
      "                                                                 \n",
      " flatten (Flatten)           (None, 12544)             0         \n",
      "                                                                 \n",
      " dense (Dense)               (None, 200)               2509000   \n",
      "                                                                 \n",
      " dropout_3 (Dropout)         (None, 200)               0         \n",
      "                                                                 \n",
      " dense_1 (Dense)             (None, 1)                 201       \n",
      "                                                                 \n",
      "=================================================================\n",
      "Total params: 2,648,625\n",
      "Trainable params: 2,648,625\n",
      "Non-trainable params: 0\n",
      "_________________________________________________________________\n"
     ]
    }
   ],
   "source": [
    "model1.summary()"
   ]
  },
  {
   "cell_type": "code",
   "execution_count": 22,
   "metadata": {},
   "outputs": [
    {
     "name": "stdout",
     "output_type": "stream",
     "text": [
      "Epoch 1/25\n",
      "132/132 [==============================] - 52s 363ms/step - loss: 0.4939 - accuracy: 0.2643\n",
      "Epoch 2/25\n",
      "132/132 [==============================] - 46s 347ms/step - loss: 0.3951 - accuracy: 0.2643\n",
      "Epoch 3/25\n",
      "132/132 [==============================] - 46s 352ms/step - loss: 0.3436 - accuracy: 0.2643\n",
      "Epoch 4/25\n",
      "132/132 [==============================] - 46s 345ms/step - loss: 0.3085 - accuracy: 0.2643\n",
      "Epoch 5/25\n",
      "132/132 [==============================] - 45s 344ms/step - loss: 0.2792 - accuracy: 0.2643\n",
      "Epoch 6/25\n",
      "132/132 [==============================] - 47s 354ms/step - loss: 0.2562 - accuracy: 0.2643\n",
      "Epoch 7/25\n",
      "132/132 [==============================] - 45s 344ms/step - loss: 0.2254 - accuracy: 0.2643\n",
      "Epoch 8/25\n",
      "132/132 [==============================] - 46s 348ms/step - loss: 0.2001 - accuracy: 0.2643\n",
      "Epoch 9/25\n",
      "132/132 [==============================] - 45s 344ms/step - loss: 0.1753 - accuracy: 0.2643\n",
      "Epoch 10/25\n",
      "132/132 [==============================] - 41s 313ms/step - loss: 0.1637 - accuracy: 0.2643\n",
      "Epoch 11/25\n",
      "132/132 [==============================] - 33s 252ms/step - loss: 0.1341 - accuracy: 0.2643\n",
      "Epoch 12/25\n",
      "132/132 [==============================] - 33s 250ms/step - loss: 0.1352 - accuracy: 0.2643\n",
      "Epoch 13/25\n",
      "132/132 [==============================] - 33s 250ms/step - loss: 0.1234 - accuracy: 0.2643\n",
      "Epoch 14/25\n",
      "132/132 [==============================] - 33s 250ms/step - loss: 0.0965 - accuracy: 0.2643\n",
      "Epoch 15/25\n",
      "132/132 [==============================] - 33s 251ms/step - loss: 0.0929 - accuracy: 0.2643\n",
      "Epoch 16/25\n",
      "132/132 [==============================] - 34s 255ms/step - loss: 0.0893 - accuracy: 0.2643\n",
      "Epoch 17/25\n",
      "132/132 [==============================] - 33s 251ms/step - loss: 0.0849 - accuracy: 0.2643\n",
      "Epoch 18/25\n",
      "132/132 [==============================] - 46s 348ms/step - loss: 0.0665 - accuracy: 0.2643\n",
      "Epoch 19/25\n",
      "132/132 [==============================] - 55s 419ms/step - loss: 0.0682 - accuracy: 0.2643\n",
      "Epoch 20/25\n",
      "132/132 [==============================] - 50s 378ms/step - loss: 0.0627 - accuracy: 0.2643\n",
      "Epoch 21/25\n",
      "132/132 [==============================] - 49s 374ms/step - loss: 0.0878 - accuracy: 0.2643\n",
      "Epoch 22/25\n",
      "132/132 [==============================] - 49s 372ms/step - loss: 0.0530 - accuracy: 0.2643\n",
      "Epoch 23/25\n",
      "132/132 [==============================] - 41s 309ms/step - loss: 0.0602 - accuracy: 0.2643\n",
      "Epoch 24/25\n",
      "132/132 [==============================] - 42s 319ms/step - loss: 0.0449 - accuracy: 0.2643\n",
      "Epoch 25/25\n",
      "132/132 [==============================] - 40s 304ms/step - loss: 0.0619 - accuracy: 0.2643\n"
     ]
    },
    {
     "data": {
      "text/plain": [
       "<keras.callbacks.History at 0x20d6db9aec0>"
      ]
     },
     "execution_count": 22,
     "metadata": {},
     "output_type": "execute_result"
    }
   ],
   "source": [
    "model1.fit(train, Y_train, epochs=25, batch_size=32)"
   ]
  },
  {
   "cell_type": "code",
   "execution_count": 24,
   "metadata": {},
   "outputs": [],
   "source": [
    "\n",
    "# predict probabilities for test set\n",
    "yhat_probs = model1.predict(test, verbose=0)\n",
    "# predict crisp classes for test set\n",
    "# yhat_classes = model1.predict_classes(test, verbose=0)"
   ]
  },
  {
   "cell_type": "code",
   "execution_count": 25,
   "metadata": {},
   "outputs": [],
   "source": [
    "yhat_probs = yhat_probs[:, 0]\n",
    "#yhat_classes = yhat_classes[:, 0]"
   ]
  },
  {
   "cell_type": "code",
   "execution_count": 26,
   "metadata": {},
   "outputs": [],
   "source": [
    "from sklearn.metrics import accuracy_score\n",
    "from sklearn.metrics import precision_score\n",
    "from sklearn.metrics import recall_score\n",
    "from sklearn.metrics import f1_score"
   ]
  },
  {
   "cell_type": "code",
   "execution_count": 27,
   "metadata": {},
   "outputs": [
    {
     "name": "stdout",
     "output_type": "stream",
     "text": [
      "Accuracy: 0.276190\n",
      "Precision: 0.276190\n",
      "Recall: 1.000000\n",
      "F1 score: 0.432836\n"
     ]
    }
   ],
   "source": [
    "accuracy = accuracy_score(Y_tests, yhat_probs)\n",
    "print('Accuracy: %f' % accuracy)\n",
    "# precision tp / (tp + fp)\n",
    "precision = precision_score(Y_tests, yhat_probs)\n",
    "print('Precision: %f' % precision)\n",
    "# recall: tp / (tp + fn)\n",
    "recall = recall_score(Y_tests, yhat_probs)\n",
    "print('Recall: %f' % recall)\n",
    "# f1: 2 tp / (2 tp + fp + fn)\n",
    "f1 = f1_score(Y_tests, yhat_probs)\n",
    "print('F1 score: %f' % f1)"
   ]
  }
 ],
 "metadata": {
  "interpreter": {
   "hash": "afb734500600fd355917ca529030176ea0ca205570884b88f2f6f7d791fd3fbe"
  },
  "kernelspec": {
   "display_name": "Python 3.10.4 64-bit",
   "language": "python",
   "name": "python3"
  },
  "language_info": {
   "codemirror_mode": {
    "name": "ipython",
    "version": 3
   },
   "file_extension": ".py",
   "mimetype": "text/x-python",
   "name": "python",
   "nbconvert_exporter": "python",
   "pygments_lexer": "ipython3",
   "version": "3.10.4"
  },
  "orig_nbformat": 4
 },
 "nbformat": 4,
 "nbformat_minor": 2
}
