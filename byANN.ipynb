{
 "cells": [
  {
   "cell_type": "code",
   "execution_count": 30,
   "metadata": {},
   "outputs": [],
   "source": [
    "import numpy as np\n",
    "import pandas as pd\n",
    "from sklearn.metrics import accuracy_score,confusion_matrix\n"
   ]
  },
  {
   "cell_type": "code",
   "execution_count": 31,
   "metadata": {},
   "outputs": [
    {
     "data": {
      "text/html": [
       "<div>\n",
       "<style scoped>\n",
       "    .dataframe tbody tr th:only-of-type {\n",
       "        vertical-align: middle;\n",
       "    }\n",
       "\n",
       "    .dataframe tbody tr th {\n",
       "        vertical-align: top;\n",
       "    }\n",
       "\n",
       "    .dataframe thead th {\n",
       "        text-align: right;\n",
       "    }\n",
       "</style>\n",
       "<table border=\"1\" class=\"dataframe\">\n",
       "  <thead>\n",
       "    <tr style=\"text-align: right;\">\n",
       "      <th></th>\n",
       "      <th>labels</th>\n",
       "      <th>f_0</th>\n",
       "      <th>f_1</th>\n",
       "      <th>f_2</th>\n",
       "      <th>f_3</th>\n",
       "      <th>f_4</th>\n",
       "      <th>f_5</th>\n",
       "      <th>f_6</th>\n",
       "      <th>f_7</th>\n",
       "      <th>f_8</th>\n",
       "      <th>...</th>\n",
       "      <th>f_1190</th>\n",
       "      <th>f_1191</th>\n",
       "      <th>f_1192</th>\n",
       "      <th>f_1193</th>\n",
       "      <th>f_1194</th>\n",
       "      <th>f_1195</th>\n",
       "      <th>f_1196</th>\n",
       "      <th>f_1197</th>\n",
       "      <th>f_1198</th>\n",
       "      <th>f_1199</th>\n",
       "    </tr>\n",
       "  </thead>\n",
       "  <tbody>\n",
       "    <tr>\n",
       "      <th>0</th>\n",
       "      <td>0</td>\n",
       "      <td>-2.033875</td>\n",
       "      <td>0.978446</td>\n",
       "      <td>-0.142131</td>\n",
       "      <td>-0.177117</td>\n",
       "      <td>-1.470684</td>\n",
       "      <td>1.669562</td>\n",
       "      <td>-0.196530</td>\n",
       "      <td>-0.125239</td>\n",
       "      <td>-0.452284</td>\n",
       "      <td>...</td>\n",
       "      <td>-1.111266</td>\n",
       "      <td>0.716084</td>\n",
       "      <td>0.060039</td>\n",
       "      <td>0.301279</td>\n",
       "      <td>-1.174846</td>\n",
       "      <td>-1.076498</td>\n",
       "      <td>-0.069452</td>\n",
       "      <td>-0.604012</td>\n",
       "      <td>-2.179176</td>\n",
       "      <td>0.558003</td>\n",
       "    </tr>\n",
       "    <tr>\n",
       "      <th>1</th>\n",
       "      <td>1</td>\n",
       "      <td>-0.348835</td>\n",
       "      <td>0.294815</td>\n",
       "      <td>-0.557577</td>\n",
       "      <td>-2.020773</td>\n",
       "      <td>-1.234715</td>\n",
       "      <td>1.633930</td>\n",
       "      <td>-1.680658</td>\n",
       "      <td>-0.358146</td>\n",
       "      <td>0.166122</td>\n",
       "      <td>...</td>\n",
       "      <td>0.735240</td>\n",
       "      <td>0.829781</td>\n",
       "      <td>1.521941</td>\n",
       "      <td>1.347946</td>\n",
       "      <td>0.754505</td>\n",
       "      <td>1.330642</td>\n",
       "      <td>-0.754453</td>\n",
       "      <td>0.582956</td>\n",
       "      <td>0.252671</td>\n",
       "      <td>1.495870</td>\n",
       "    </tr>\n",
       "    <tr>\n",
       "      <th>2</th>\n",
       "      <td>1</td>\n",
       "      <td>0.113248</td>\n",
       "      <td>-0.607726</td>\n",
       "      <td>-0.947791</td>\n",
       "      <td>0.830851</td>\n",
       "      <td>0.998291</td>\n",
       "      <td>0.498321</td>\n",
       "      <td>-1.493958</td>\n",
       "      <td>0.789572</td>\n",
       "      <td>-1.311018</td>\n",
       "      <td>...</td>\n",
       "      <td>0.104698</td>\n",
       "      <td>0.616189</td>\n",
       "      <td>-1.035953</td>\n",
       "      <td>2.111387</td>\n",
       "      <td>-0.984415</td>\n",
       "      <td>1.148076</td>\n",
       "      <td>-1.433554</td>\n",
       "      <td>0.243372</td>\n",
       "      <td>0.170083</td>\n",
       "      <td>1.274795</td>\n",
       "    </tr>\n",
       "    <tr>\n",
       "      <th>3</th>\n",
       "      <td>0</td>\n",
       "      <td>1.223321</td>\n",
       "      <td>-0.479048</td>\n",
       "      <td>-1.925789</td>\n",
       "      <td>1.680377</td>\n",
       "      <td>0.021840</td>\n",
       "      <td>-1.453307</td>\n",
       "      <td>0.605559</td>\n",
       "      <td>-0.019024</td>\n",
       "      <td>1.065448</td>\n",
       "      <td>...</td>\n",
       "      <td>0.360237</td>\n",
       "      <td>-1.957863</td>\n",
       "      <td>-0.123384</td>\n",
       "      <td>1.505329</td>\n",
       "      <td>0.660290</td>\n",
       "      <td>-1.769443</td>\n",
       "      <td>-0.547756</td>\n",
       "      <td>-0.568122</td>\n",
       "      <td>0.244645</td>\n",
       "      <td>0.982116</td>\n",
       "    </tr>\n",
       "    <tr>\n",
       "      <th>4</th>\n",
       "      <td>0</td>\n",
       "      <td>0.160109</td>\n",
       "      <td>0.422684</td>\n",
       "      <td>-0.308029</td>\n",
       "      <td>0.227744</td>\n",
       "      <td>0.432854</td>\n",
       "      <td>0.608348</td>\n",
       "      <td>0.193832</td>\n",
       "      <td>1.035091</td>\n",
       "      <td>-0.538868</td>\n",
       "      <td>...</td>\n",
       "      <td>0.416629</td>\n",
       "      <td>1.441766</td>\n",
       "      <td>0.212572</td>\n",
       "      <td>-0.994721</td>\n",
       "      <td>1.143999</td>\n",
       "      <td>-2.166923</td>\n",
       "      <td>-1.199248</td>\n",
       "      <td>-1.028636</td>\n",
       "      <td>0.752791</td>\n",
       "      <td>0.317169</td>\n",
       "    </tr>\n",
       "  </tbody>\n",
       "</table>\n",
       "<p>5 rows × 1201 columns</p>\n",
       "</div>"
      ],
      "text/plain": [
       "   labels       f_0       f_1       f_2       f_3       f_4       f_5  \\\n",
       "0       0 -2.033875  0.978446 -0.142131 -0.177117 -1.470684  1.669562   \n",
       "1       1 -0.348835  0.294815 -0.557577 -2.020773 -1.234715  1.633930   \n",
       "2       1  0.113248 -0.607726 -0.947791  0.830851  0.998291  0.498321   \n",
       "3       0  1.223321 -0.479048 -1.925789  1.680377  0.021840 -1.453307   \n",
       "4       0  0.160109  0.422684 -0.308029  0.227744  0.432854  0.608348   \n",
       "\n",
       "        f_6       f_7       f_8  ...    f_1190    f_1191    f_1192    f_1193  \\\n",
       "0 -0.196530 -0.125239 -0.452284  ... -1.111266  0.716084  0.060039  0.301279   \n",
       "1 -1.680658 -0.358146  0.166122  ...  0.735240  0.829781  1.521941  1.347946   \n",
       "2 -1.493958  0.789572 -1.311018  ...  0.104698  0.616189 -1.035953  2.111387   \n",
       "3  0.605559 -0.019024  1.065448  ...  0.360237 -1.957863 -0.123384  1.505329   \n",
       "4  0.193832  1.035091 -0.538868  ...  0.416629  1.441766  0.212572 -0.994721   \n",
       "\n",
       "     f_1194    f_1195    f_1196    f_1197    f_1198    f_1199  \n",
       "0 -1.174846 -1.076498 -0.069452 -0.604012 -2.179176  0.558003  \n",
       "1  0.754505  1.330642 -0.754453  0.582956  0.252671  1.495870  \n",
       "2 -0.984415  1.148076 -1.433554  0.243372  0.170083  1.274795  \n",
       "3  0.660290 -1.769443 -0.547756 -0.568122  0.244645  0.982116  \n",
       "4  1.143999 -2.166923 -1.199248 -1.028636  0.752791  0.317169  \n",
       "\n",
       "[5 rows x 1201 columns]"
      ]
     },
     "execution_count": 31,
     "metadata": {},
     "output_type": "execute_result"
    }
   ],
   "source": [
    "df = pd.read_csv(\"train.csv\")\n",
    "df.head()"
   ]
  },
  {
   "cell_type": "code",
   "execution_count": 32,
   "metadata": {},
   "outputs": [],
   "source": [
    "X = df.drop('labels',axis = 1)\n",
    "Y = df['labels']"
   ]
  },
  {
   "cell_type": "code",
   "execution_count": 33,
   "metadata": {},
   "outputs": [
    {
     "data": {
      "text/plain": [
       "((4200, 1200), (1050, 1200), (4200,))"
      ]
     },
     "execution_count": 33,
     "metadata": {},
     "output_type": "execute_result"
    }
   ],
   "source": [
    "from sklearn.model_selection import train_test_split\n",
    "train,test,Y_train,Y_tests = train_test_split(X,Y, test_size=0.2, random_state = 20113046)\n",
    "train.shape,test.shape,Y_train.shape"
   ]
  },
  {
   "cell_type": "code",
   "execution_count": 34,
   "metadata": {},
   "outputs": [],
   "source": [
    "from sklearn.preprocessing import StandardScaler\n",
    "\n",
    "sc = StandardScaler()\n",
    "train = sc.fit_transform(train)\n",
    "test= sc.transform(test)"
   ]
  },
  {
   "cell_type": "code",
   "execution_count": 35,
   "metadata": {},
   "outputs": [],
   "source": [
    "# Libraries for Model Building\n",
    "from keras.models import Sequential\n",
    "from keras.layers import Dense\n",
    "from tensorflow_addons.metrics import RSquare"
   ]
  },
  {
   "cell_type": "markdown",
   "metadata": {},
   "source": [
    "/*I have chosen the hidden layers to be 4 as our dataset is large and number of neuron units is decided using the closest power of 2 to the sqrt of the previous input neuron units as it is the most optimal.\n",
    "Hence, sqrt(1200)=36 around and sqrt(36)=6 and so on. As it is a bnary classification problem, I have \n",
    "used sigmoid activation function in the output layer*/"
   ]
  },
  {
   "cell_type": "code",
   "execution_count": 36,
   "metadata": {},
   "outputs": [],
   "source": [
    "# 1. Creating a Model - Breast Cancer Model\n",
    "model = Sequential()\n",
    "\n",
    "# 2. Defining Architecture\n",
    "model.add(Dense(units=36, activation = 'relu',input_dim=1200))\n",
    "model.add(Dense(units=6, activation = 'relu'))\n",
    "model.add(Dense(units=2, activation = 'relu'))\n",
    "model.add(Dense(units=1, activation = 'sigmoid')) "
   ]
  },
  {
   "cell_type": "code",
   "execution_count": 37,
   "metadata": {},
   "outputs": [
    {
     "name": "stdout",
     "output_type": "stream",
     "text": [
      "Epoch 1/100\n",
      "132/132 [==============================] - 2s 4ms/step - loss: 0.4264 - accuracy: 0.7869\n",
      "Epoch 2/100\n",
      "132/132 [==============================] - 1s 4ms/step - loss: 0.3159 - accuracy: 0.8762\n",
      "Epoch 3/100\n",
      "132/132 [==============================] - 1s 4ms/step - loss: 0.2332 - accuracy: 0.9352\n",
      "Epoch 4/100\n",
      "132/132 [==============================] - 1s 4ms/step - loss: 0.1757 - accuracy: 0.9760\n",
      "Epoch 5/100\n",
      "132/132 [==============================] - 1s 4ms/step - loss: 0.1432 - accuracy: 0.9902\n",
      "Epoch 6/100\n",
      "132/132 [==============================] - 1s 4ms/step - loss: 0.1252 - accuracy: 0.9938\n",
      "Epoch 7/100\n",
      "132/132 [==============================] - 1s 4ms/step - loss: 0.1113 - accuracy: 0.9957\n",
      "Epoch 8/100\n",
      "132/132 [==============================] - 1s 4ms/step - loss: 0.1016 - accuracy: 0.9967\n",
      "Epoch 9/100\n",
      "132/132 [==============================] - 1s 4ms/step - loss: 0.0916 - accuracy: 0.9976\n",
      "Epoch 10/100\n",
      "132/132 [==============================] - 1s 5ms/step - loss: 0.0849 - accuracy: 0.9971\n",
      "Epoch 11/100\n",
      "132/132 [==============================] - 1s 4ms/step - loss: 0.0773 - accuracy: 0.9976\n",
      "Epoch 12/100\n",
      "132/132 [==============================] - 1s 4ms/step - loss: 0.0713 - accuracy: 0.9976\n",
      "Epoch 13/100\n",
      "132/132 [==============================] - 1s 4ms/step - loss: 0.0662 - accuracy: 0.9976\n",
      "Epoch 14/100\n",
      "132/132 [==============================] - 1s 4ms/step - loss: 0.0613 - accuracy: 0.9976\n",
      "Epoch 15/100\n",
      "132/132 [==============================] - 1s 5ms/step - loss: 0.0571 - accuracy: 0.9976\n",
      "Epoch 16/100\n",
      "132/132 [==============================] - 1s 4ms/step - loss: 0.0534 - accuracy: 0.9976\n",
      "Epoch 17/100\n",
      "132/132 [==============================] - 1s 5ms/step - loss: 0.0500 - accuracy: 0.9976\n",
      "Epoch 18/100\n",
      "132/132 [==============================] - 1s 5ms/step - loss: 0.0469 - accuracy: 0.9979\n",
      "Epoch 19/100\n",
      "132/132 [==============================] - 1s 5ms/step - loss: 0.0440 - accuracy: 0.9979\n",
      "Epoch 20/100\n",
      "132/132 [==============================] - 1s 5ms/step - loss: 0.0413 - accuracy: 0.9979\n",
      "Epoch 21/100\n",
      "132/132 [==============================] - 1s 5ms/step - loss: 0.0389 - accuracy: 0.9979\n",
      "Epoch 22/100\n",
      "132/132 [==============================] - 1s 5ms/step - loss: 0.0369 - accuracy: 0.9979\n",
      "Epoch 23/100\n",
      "132/132 [==============================] - 1s 5ms/step - loss: 0.0350 - accuracy: 0.9979\n",
      "Epoch 24/100\n",
      "132/132 [==============================] - 1s 5ms/step - loss: 0.0333 - accuracy: 0.9979\n",
      "Epoch 25/100\n",
      "132/132 [==============================] - 1s 4ms/step - loss: 0.0316 - accuracy: 0.9979\n",
      "Epoch 26/100\n",
      "132/132 [==============================] - 1s 5ms/step - loss: 0.0301 - accuracy: 0.9979\n",
      "Epoch 27/100\n",
      "132/132 [==============================] - 1s 5ms/step - loss: 0.0290 - accuracy: 0.9979\n",
      "Epoch 28/100\n",
      "132/132 [==============================] - 1s 5ms/step - loss: 0.0276 - accuracy: 0.9979\n",
      "Epoch 29/100\n",
      "132/132 [==============================] - 1s 5ms/step - loss: 0.0452 - accuracy: 0.9912\n",
      "Epoch 30/100\n",
      "132/132 [==============================] - 1s 5ms/step - loss: 0.1718 - accuracy: 0.9455\n",
      "Epoch 31/100\n",
      "132/132 [==============================] - 1s 4ms/step - loss: 0.0579 - accuracy: 0.9871\n",
      "Epoch 32/100\n",
      "132/132 [==============================] - 1s 5ms/step - loss: 0.0273 - accuracy: 0.9979\n",
      "Epoch 33/100\n",
      "132/132 [==============================] - 1s 5ms/step - loss: 0.0228 - accuracy: 0.9983\n",
      "Epoch 34/100\n",
      "132/132 [==============================] - 1s 4ms/step - loss: 0.0215 - accuracy: 0.9983\n",
      "Epoch 35/100\n",
      "132/132 [==============================] - 1s 5ms/step - loss: 0.0205 - accuracy: 0.9983\n",
      "Epoch 36/100\n",
      "132/132 [==============================] - 1s 4ms/step - loss: 0.0197 - accuracy: 0.9983\n",
      "Epoch 37/100\n",
      "132/132 [==============================] - 1s 4ms/step - loss: 0.0190 - accuracy: 0.9983\n",
      "Epoch 38/100\n",
      "132/132 [==============================] - 1s 5ms/step - loss: 0.0183 - accuracy: 0.9983\n",
      "Epoch 39/100\n",
      "132/132 [==============================] - 1s 4ms/step - loss: 0.0177 - accuracy: 0.9983\n",
      "Epoch 40/100\n",
      "132/132 [==============================] - 1s 5ms/step - loss: 0.0171 - accuracy: 0.9983\n",
      "Epoch 41/100\n",
      "132/132 [==============================] - 1s 5ms/step - loss: 0.0165 - accuracy: 0.9983\n",
      "Epoch 42/100\n",
      "132/132 [==============================] - 1s 5ms/step - loss: 0.0160 - accuracy: 0.9983\n",
      "Epoch 43/100\n",
      "132/132 [==============================] - 1s 4ms/step - loss: 0.0157 - accuracy: 0.9983\n",
      "Epoch 44/100\n",
      "132/132 [==============================] - 1s 5ms/step - loss: 0.0144 - accuracy: 0.9986\n",
      "Epoch 45/100\n",
      "132/132 [==============================] - 1s 5ms/step - loss: 0.0140 - accuracy: 0.9986\n",
      "Epoch 46/100\n",
      "132/132 [==============================] - 1s 5ms/step - loss: 0.0136 - accuracy: 0.9986\n",
      "Epoch 47/100\n",
      "132/132 [==============================] - 1s 5ms/step - loss: 0.0132 - accuracy: 0.9986\n",
      "Epoch 48/100\n",
      "132/132 [==============================] - 1s 5ms/step - loss: 0.0129 - accuracy: 0.9986\n",
      "Epoch 49/100\n",
      "132/132 [==============================] - 1s 5ms/step - loss: 0.0126 - accuracy: 0.9986\n",
      "Epoch 50/100\n",
      "132/132 [==============================] - 1s 4ms/step - loss: 0.0123 - accuracy: 0.9986\n",
      "Epoch 51/100\n",
      "132/132 [==============================] - 1s 4ms/step - loss: 0.0120 - accuracy: 0.9986\n",
      "Epoch 52/100\n",
      "132/132 [==============================] - 1s 4ms/step - loss: 0.0118 - accuracy: 0.9986\n",
      "Epoch 53/100\n",
      "132/132 [==============================] - 1s 5ms/step - loss: 0.0115 - accuracy: 0.9986\n",
      "Epoch 54/100\n",
      "132/132 [==============================] - 1s 4ms/step - loss: 0.0113 - accuracy: 0.9986\n",
      "Epoch 55/100\n",
      "132/132 [==============================] - 1s 5ms/step - loss: 0.0111 - accuracy: 0.9986\n",
      "Epoch 56/100\n",
      "132/132 [==============================] - 1s 5ms/step - loss: 0.0110 - accuracy: 0.9986\n",
      "Epoch 57/100\n",
      "132/132 [==============================] - 1s 5ms/step - loss: 0.0108 - accuracy: 0.9986\n",
      "Epoch 58/100\n",
      "132/132 [==============================] - 1s 4ms/step - loss: 0.0106 - accuracy: 0.9986\n",
      "Epoch 59/100\n",
      "132/132 [==============================] - 1s 4ms/step - loss: 0.0105 - accuracy: 0.9986\n",
      "Epoch 60/100\n",
      "132/132 [==============================] - 1s 5ms/step - loss: 0.0104 - accuracy: 0.9986\n",
      "Epoch 61/100\n",
      "132/132 [==============================] - 1s 4ms/step - loss: 0.0102 - accuracy: 0.9986\n",
      "Epoch 62/100\n",
      "132/132 [==============================] - 1s 5ms/step - loss: 0.0101 - accuracy: 0.9986\n",
      "Epoch 63/100\n",
      "132/132 [==============================] - 1s 5ms/step - loss: 0.0100 - accuracy: 0.9986\n",
      "Epoch 64/100\n",
      "132/132 [==============================] - 1s 5ms/step - loss: 0.0099 - accuracy: 0.9986\n",
      "Epoch 65/100\n",
      "132/132 [==============================] - 1s 5ms/step - loss: 0.0099 - accuracy: 0.9986\n",
      "Epoch 66/100\n",
      "132/132 [==============================] - 1s 6ms/step - loss: 0.0098 - accuracy: 0.9986\n",
      "Epoch 67/100\n",
      "132/132 [==============================] - 1s 5ms/step - loss: 0.0097 - accuracy: 0.9986\n",
      "Epoch 68/100\n",
      "132/132 [==============================] - 1s 4ms/step - loss: 0.0096 - accuracy: 0.9986\n",
      "Epoch 69/100\n",
      "132/132 [==============================] - 1s 5ms/step - loss: 0.0096 - accuracy: 0.9986\n",
      "Epoch 70/100\n",
      "132/132 [==============================] - 1s 4ms/step - loss: 0.0095 - accuracy: 0.9986\n",
      "Epoch 71/100\n",
      "132/132 [==============================] - 1s 5ms/step - loss: 0.0095 - accuracy: 0.9986\n",
      "Epoch 72/100\n",
      "132/132 [==============================] - 1s 4ms/step - loss: 0.0094 - accuracy: 0.9986\n",
      "Epoch 73/100\n",
      "132/132 [==============================] - 1s 5ms/step - loss: 0.0094 - accuracy: 0.9986\n",
      "Epoch 74/100\n",
      "132/132 [==============================] - 1s 6ms/step - loss: 0.0094 - accuracy: 0.9986\n",
      "Epoch 75/100\n",
      "132/132 [==============================] - 1s 6ms/step - loss: 0.0093 - accuracy: 0.9986\n",
      "Epoch 76/100\n",
      "132/132 [==============================] - 1s 6ms/step - loss: 0.0093 - accuracy: 0.9986\n",
      "Epoch 77/100\n",
      "132/132 [==============================] - 1s 8ms/step - loss: 0.0093 - accuracy: 0.9986\n",
      "Epoch 78/100\n",
      "132/132 [==============================] - 1s 6ms/step - loss: 0.0092 - accuracy: 0.9986\n",
      "Epoch 79/100\n",
      "132/132 [==============================] - 1s 6ms/step - loss: 0.0092 - accuracy: 0.9986\n",
      "Epoch 80/100\n",
      "132/132 [==============================] - 1s 5ms/step - loss: 0.0092 - accuracy: 0.9986\n",
      "Epoch 81/100\n",
      "132/132 [==============================] - 1s 5ms/step - loss: 0.0092 - accuracy: 0.9986\n",
      "Epoch 82/100\n",
      "132/132 [==============================] - 1s 7ms/step - loss: 0.0092 - accuracy: 0.9986\n",
      "Epoch 83/100\n",
      "132/132 [==============================] - 1s 6ms/step - loss: 0.0091 - accuracy: 0.9986\n",
      "Epoch 84/100\n",
      "132/132 [==============================] - 1s 5ms/step - loss: 0.0091 - accuracy: 0.9986\n",
      "Epoch 85/100\n",
      "132/132 [==============================] - 1s 5ms/step - loss: 0.0091 - accuracy: 0.9986\n",
      "Epoch 86/100\n",
      "132/132 [==============================] - 1s 5ms/step - loss: 0.0091 - accuracy: 0.9986\n",
      "Epoch 87/100\n",
      "132/132 [==============================] - 1s 5ms/step - loss: 0.0091 - accuracy: 0.9986\n",
      "Epoch 88/100\n",
      "132/132 [==============================] - 1s 5ms/step - loss: 0.0091 - accuracy: 0.9986\n",
      "Epoch 89/100\n",
      "132/132 [==============================] - 1s 4ms/step - loss: 0.0090 - accuracy: 0.9986\n",
      "Epoch 90/100\n",
      "132/132 [==============================] - 1s 4ms/step - loss: 0.0090 - accuracy: 0.9986\n",
      "Epoch 91/100\n",
      "132/132 [==============================] - 1s 5ms/step - loss: 0.0090 - accuracy: 0.9986\n",
      "Epoch 92/100\n",
      "132/132 [==============================] - 1s 5ms/step - loss: 0.0090 - accuracy: 0.9986\n",
      "Epoch 93/100\n",
      "132/132 [==============================] - 1s 4ms/step - loss: 0.0090 - accuracy: 0.9986\n",
      "Epoch 94/100\n",
      "132/132 [==============================] - 1s 4ms/step - loss: 0.0090 - accuracy: 0.9986\n",
      "Epoch 95/100\n",
      "132/132 [==============================] - 1s 5ms/step - loss: 0.0090 - accuracy: 0.9986\n",
      "Epoch 96/100\n",
      "132/132 [==============================] - 1s 4ms/step - loss: 0.0090 - accuracy: 0.9986\n",
      "Epoch 97/100\n",
      "132/132 [==============================] - 1s 4ms/step - loss: 0.0090 - accuracy: 0.9986\n",
      "Epoch 98/100\n",
      "132/132 [==============================] - 1s 5ms/step - loss: 0.0093 - accuracy: 0.9983\n",
      "Epoch 99/100\n",
      "132/132 [==============================] - 1s 4ms/step - loss: 0.0318 - accuracy: 0.9929\n",
      "Epoch 100/100\n",
      "132/132 [==============================] - 1s 4ms/step - loss: 0.1262 - accuracy: 0.9638\n"
     ]
    },
    {
     "data": {
      "text/plain": [
       "<keras.callbacks.History at 0x27fe3d4f880>"
      ]
     },
     "execution_count": 37,
     "metadata": {},
     "output_type": "execute_result"
    }
   ],
   "source": [
    "model.compile(optimizer='adam', loss='binary_crossentropy', metrics=['accuracy'])\n",
    "model.fit(train, Y_train, epochs=100, batch_size=32)"
   ]
  },
  {
   "cell_type": "code",
   "execution_count": 38,
   "metadata": {},
   "outputs": [
    {
     "name": "stdout",
     "output_type": "stream",
     "text": [
      "33/33 [==============================] - 0s 3ms/step\n",
      "33/33 [==============================] - 0s 3ms/step - loss: 1.1293 - accuracy: 0.7848\n"
     ]
    },
    {
     "data": {
      "text/plain": [
       "[1.1292937994003296, 0.784761905670166]"
      ]
     },
     "execution_count": 38,
     "metadata": {},
     "output_type": "execute_result"
    }
   ],
   "source": [
    "predictions = model.predict(test)\n",
    "score = model.evaluate(test, Y_tests)\n",
    "score"
   ]
  },
  {
   "cell_type": "code",
   "execution_count": 39,
   "metadata": {},
   "outputs": [
    {
     "name": "stdout",
     "output_type": "stream",
     "text": [
      "The rsquared value is: 0.09560287961437863\n"
     ]
    }
   ],
   "source": [
    "import sklearn\n",
    "from sklearn.metrics import r2_score\n",
    "r2 = r2_score(Y_tests, predictions)\n",
    "print('The rsquared value is: ' + str(r2))"
   ]
  },
  {
   "cell_type": "code",
   "execution_count": 40,
   "metadata": {},
   "outputs": [],
   "source": [
    "model.save(\"ANN.h5\")"
   ]
  },
  {
   "cell_type": "code",
   "execution_count": 41,
   "metadata": {},
   "outputs": [
    {
     "data": {
      "text/plain": [
       "<matplotlib.image.AxesImage at 0x27fe79538e0>"
      ]
     },
     "execution_count": 41,
     "metadata": {},
     "output_type": "execute_result"
    },
    {
     "data": {
      "image/png": "[encoded data removed]",
      "text/plain": [
       "<Figure size 432x288 with 1 Axes>"
      ]
     },
     "metadata": {
      "needs_background": "light"
     },
     "output_type": "display_data"
    }
   ],
   "source": [
    "# importing required libraries\n",
    "import matplotlib.pyplot as plt\n",
    "import matplotlib.image as img\n",
    "  \n",
    "# reading the image\n",
    "testImage = img.imread('nn.jpg')\n",
    "# modifying the shape of the image\n",
    "modifiedImage = testImage[:,1500:3000, :]\n",
    "  \n",
    "# displaying the image\n",
    "plt.imshow(modifiedImage)"
   ]
  },
  {
   "cell_type": "markdown",
   "metadata": {},
   "source": [
    "/*TO display the image of architecture of ANN applied using PIL*/"
   ]
  },
  {
   "cell_type": "code",
   "execution_count": 42,
   "metadata": {},
   "outputs": [],
   "source": [
    "from PIL import Image\n",
    " \n",
    "# creating a object\n",
    "im = Image.open(\"nn.jpg\")\n",
    " \n",
    "im.show()"
   ]
  },
  {
   "cell_type": "code",
   "execution_count": 43,
   "metadata": {},
   "outputs": [
    {
     "name": "stdout",
     "output_type": "stream",
     "text": [
      "33/33 [==============================] - 0s 4ms/step\n",
      "[[0.0000000e+00]\n",
      " [9.3652123e-01]\n",
      " [7.8626303e-03]\n",
      " ...\n",
      " [9.9220693e-01]\n",
      " [0.0000000e+00]\n",
      " [8.9408049e-06]]\n"
     ]
    }
   ],
   "source": [
    "predict_x=model.predict(test) \n",
    "print(predict_x)\n",
    "classes_x=np.argmax(predict_x,axis=1)"
   ]
  },
  {
   "cell_type": "code",
   "execution_count": 44,
   "metadata": {},
   "outputs": [
    {
     "data": {
      "text/plain": [
       "array([0, 0, 0, ..., 0, 0, 0], dtype=int64)"
      ]
     },
     "execution_count": 44,
     "metadata": {},
     "output_type": "execute_result"
    }
   ],
   "source": [
    "classes_x"
   ]
  },
  {
   "cell_type": "code",
   "execution_count": 45,
   "metadata": {},
   "outputs": [
    {
     "data": {
      "text/plain": [
       "0"
      ]
     },
     "execution_count": 45,
     "metadata": {},
     "output_type": "execute_result"
    }
   ],
   "source": [
    "ct=0 #ct variable store number of label 1 in the generated predicted labels of test dataset\n",
    "for i in range(1050):\n",
    "    if classes_x[i]==1:\n",
    "        ct+=1\n",
    "ct"
   ]
  },
  {
   "cell_type": "code",
   "execution_count": 46,
   "metadata": {},
   "outputs": [
    {
     "data": {
      "text/plain": [
       "(1050, 1)"
      ]
     },
     "execution_count": 46,
     "metadata": {},
     "output_type": "execute_result"
    }
   ],
   "source": [
    "predict_x.shape"
   ]
  },
  {
   "cell_type": "code",
   "execution_count": 47,
   "metadata": {},
   "outputs": [
    {
     "data": {
      "text/plain": [
       "array([[0.0000000e+00],\n",
       "       [9.3652123e-01],\n",
       "       [7.8626303e-03],\n",
       "       ...,\n",
       "       [9.9220693e-01],\n",
       "       [0.0000000e+00],\n",
       "       [8.9408049e-06]], dtype=float32)"
      ]
     },
     "execution_count": 47,
     "metadata": {},
     "output_type": "execute_result"
    }
   ],
   "source": [
    "yhat = np.asarray(predict_x)\n",
    "yhat"
   ]
  },
  {
   "cell_type": "code",
   "execution_count": 48,
   "metadata": {},
   "outputs": [
    {
     "data": {
      "text/plain": [
       "(1050,)"
      ]
     },
     "execution_count": 48,
     "metadata": {},
     "output_type": "execute_result"
    }
   ],
   "source": [
    "yhat = yhat[:,0]\n",
    "yhat.shape"
   ]
  },
  {
   "cell_type": "code",
   "execution_count": 49,
   "metadata": {},
   "outputs": [
    {
     "data": {
      "text/plain": [
       "array([0.0000000e+00, 9.3652123e-01, 7.8626303e-03, ..., 9.9220693e-01,\n",
       "       0.0000000e+00, 8.9408049e-06], dtype=float32)"
      ]
     },
     "execution_count": 49,
     "metadata": {},
     "output_type": "execute_result"
    }
   ],
   "source": [
    "yhat"
   ]
  },
  {
   "cell_type": "code",
   "execution_count": 50,
   "metadata": {},
   "outputs": [
    {
     "data": {
      "text/plain": [
       "0.00786263"
      ]
     },
     "execution_count": 50,
     "metadata": {},
     "output_type": "execute_result"
    }
   ],
   "source": [
    "yhat[2]"
   ]
  },
  {
   "cell_type": "code",
   "execution_count": 51,
   "metadata": {},
   "outputs": [
    {
     "data": {
      "text/plain": [
       "array([0., 1., 0., ..., 1., 0., 0.], dtype=float32)"
      ]
     },
     "execution_count": 51,
     "metadata": {},
     "output_type": "execute_result"
    }
   ],
   "source": [
    "for i in range(1050):\n",
    "    if yhat[i]<=0.06:\n",
    "        yhat[i]=0.0\n",
    "    else:\n",
    "        yhat[i]=1.0\n",
    "yhat"
   ]
  },
  {
   "cell_type": "code",
   "execution_count": 52,
   "metadata": {},
   "outputs": [
    {
     "data": {
      "text/plain": [
       "array([0, 1, 0, ..., 1, 0, 0], dtype=int32)"
      ]
     },
     "execution_count": 52,
     "metadata": {},
     "output_type": "execute_result"
    }
   ],
   "source": [
    "y_class = yhat.astype('i')\n",
    "y_class"
   ]
  },
  {
   "cell_type": "code",
   "execution_count": 53,
   "metadata": {},
   "outputs": [
    {
     "data": {
      "text/plain": [
       "(1050,)"
      ]
     },
     "execution_count": 53,
     "metadata": {},
     "output_type": "execute_result"
    }
   ],
   "source": [
    "y_class.shape"
   ]
  },
  {
   "cell_type": "code",
   "execution_count": 54,
   "metadata": {},
   "outputs": [],
   "source": [
    "from sklearn.metrics import accuracy_score\n",
    "from sklearn.metrics import precision_score\n",
    "from sklearn.metrics import recall_score\n",
    "from sklearn.metrics import f1_score"
   ]
  },
  {
   "cell_type": "code",
   "execution_count": 55,
   "metadata": {},
   "outputs": [
    {
     "data": {
      "text/plain": [
       "426"
      ]
     },
     "execution_count": 55,
     "metadata": {},
     "output_type": "execute_result"
    }
   ],
   "source": [
    "ct=0 #ct variable store number of label 1 in the generated predicted labels of test dataset\n",
    "for i in range(1050):\n",
    "    if y_class[i]==1:\n",
    "        ct+=1\n",
    "ct"
   ]
  },
  {
   "cell_type": "code",
   "execution_count": 56,
   "metadata": {},
   "outputs": [
    {
     "name": "stdout",
     "output_type": "stream",
     "text": [
      "Accuracy: 0.750476\n",
      "Precision: 0.532864\n",
      "Recall: 0.782759\n",
      "F1 score: 0.634078\n"
     ]
    }
   ],
   "source": [
    "accuracy = accuracy_score(Y_tests, y_class)\n",
    "print('Accuracy: %f' % accuracy)\n",
    "# precision tp / (tp + fp)\n",
    "precision = precision_score(Y_tests, y_class)\n",
    "print('Precision: %f' % precision)\n",
    "# recall: tp / (tp + fn)\n",
    "recall = recall_score(Y_tests, y_class)\n",
    "print('Recall: %f' % recall)\n",
    "# f1: 2 tp / (2 tp + fp + fn)\n",
    "f1 = f1_score(Y_tests, y_class)\n",
    "print('F1 score: %f' % f1)"
   ]
  },
  {
   "cell_type": "code",
   "execution_count": 57,
   "metadata": {},
   "outputs": [
    {
     "data": {
      "text/html": [
       "<div>\n",
       "<style scoped>\n",
       "    .dataframe tbody tr th:only-of-type {\n",
       "        vertical-align: middle;\n",
       "    }\n",
       "\n",
       "    .dataframe tbody tr th {\n",
       "        vertical-align: top;\n",
       "    }\n",
       "\n",
       "    .dataframe thead th {\n",
       "        text-align: right;\n",
       "    }\n",
       "</style>\n",
       "<table border=\"1\" class=\"dataframe\">\n",
       "  <thead>\n",
       "    <tr style=\"text-align: right;\">\n",
       "      <th></th>\n",
       "      <th>id</th>\n",
       "      <th>f_0</th>\n",
       "      <th>f_1</th>\n",
       "      <th>f_2</th>\n",
       "      <th>f_3</th>\n",
       "      <th>f_4</th>\n",
       "      <th>f_5</th>\n",
       "      <th>f_6</th>\n",
       "      <th>f_7</th>\n",
       "      <th>f_8</th>\n",
       "      <th>...</th>\n",
       "      <th>f_1190</th>\n",
       "      <th>f_1191</th>\n",
       "      <th>f_1192</th>\n",
       "      <th>f_1193</th>\n",
       "      <th>f_1194</th>\n",
       "      <th>f_1195</th>\n",
       "      <th>f_1196</th>\n",
       "      <th>f_1197</th>\n",
       "      <th>f_1198</th>\n",
       "      <th>f_1199</th>\n",
       "    </tr>\n",
       "  </thead>\n",
       "  <tbody>\n",
       "    <tr>\n",
       "      <th>0</th>\n",
       "      <td>1</td>\n",
       "      <td>-3.388242</td>\n",
       "      <td>0.868285</td>\n",
       "      <td>-0.427619</td>\n",
       "      <td>-0.678964</td>\n",
       "      <td>-1.625735</td>\n",
       "      <td>0.262761</td>\n",
       "      <td>1.243040</td>\n",
       "      <td>1.537751</td>\n",
       "      <td>-0.352028</td>\n",
       "      <td>...</td>\n",
       "      <td>-0.776403</td>\n",
       "      <td>-0.662884</td>\n",
       "      <td>-0.257091</td>\n",
       "      <td>-1.168413</td>\n",
       "      <td>0.223260</td>\n",
       "      <td>-0.482520</td>\n",
       "      <td>-0.085453</td>\n",
       "      <td>-0.382265</td>\n",
       "      <td>-0.539349</td>\n",
       "      <td>-1.682404</td>\n",
       "    </tr>\n",
       "    <tr>\n",
       "      <th>1</th>\n",
       "      <td>2</td>\n",
       "      <td>-0.496920</td>\n",
       "      <td>0.952381</td>\n",
       "      <td>0.989040</td>\n",
       "      <td>0.451422</td>\n",
       "      <td>0.513516</td>\n",
       "      <td>-0.099658</td>\n",
       "      <td>-1.124326</td>\n",
       "      <td>0.729430</td>\n",
       "      <td>-0.216224</td>\n",
       "      <td>...</td>\n",
       "      <td>0.379635</td>\n",
       "      <td>-1.760084</td>\n",
       "      <td>1.125450</td>\n",
       "      <td>-0.328047</td>\n",
       "      <td>-0.880305</td>\n",
       "      <td>-1.257607</td>\n",
       "      <td>0.964312</td>\n",
       "      <td>2.021104</td>\n",
       "      <td>0.655021</td>\n",
       "      <td>-0.423029</td>\n",
       "    </tr>\n",
       "    <tr>\n",
       "      <th>2</th>\n",
       "      <td>3</td>\n",
       "      <td>1.128369</td>\n",
       "      <td>-0.537951</td>\n",
       "      <td>2.544358</td>\n",
       "      <td>1.165254</td>\n",
       "      <td>-1.904994</td>\n",
       "      <td>0.776961</td>\n",
       "      <td>-0.495768</td>\n",
       "      <td>0.060111</td>\n",
       "      <td>-1.418468</td>\n",
       "      <td>...</td>\n",
       "      <td>1.165254</td>\n",
       "      <td>-1.373589</td>\n",
       "      <td>-0.483701</td>\n",
       "      <td>-0.964782</td>\n",
       "      <td>-0.869555</td>\n",
       "      <td>0.066040</td>\n",
       "      <td>-0.444567</td>\n",
       "      <td>-0.531935</td>\n",
       "      <td>-0.878660</td>\n",
       "      <td>1.099488</td>\n",
       "    </tr>\n",
       "    <tr>\n",
       "      <th>3</th>\n",
       "      <td>4</td>\n",
       "      <td>0.051253</td>\n",
       "      <td>1.746814</td>\n",
       "      <td>0.681177</td>\n",
       "      <td>1.844524</td>\n",
       "      <td>-0.327977</td>\n",
       "      <td>1.226839</td>\n",
       "      <td>-0.085519</td>\n",
       "      <td>0.379008</td>\n",
       "      <td>-1.003667</td>\n",
       "      <td>...</td>\n",
       "      <td>-0.442288</td>\n",
       "      <td>-2.794472</td>\n",
       "      <td>-0.763468</td>\n",
       "      <td>-0.789832</td>\n",
       "      <td>-0.113209</td>\n",
       "      <td>-2.703150</td>\n",
       "      <td>-2.058728</td>\n",
       "      <td>1.070627</td>\n",
       "      <td>-0.458045</td>\n",
       "      <td>-0.435825</td>\n",
       "    </tr>\n",
       "    <tr>\n",
       "      <th>4</th>\n",
       "      <td>5</td>\n",
       "      <td>1.423209</td>\n",
       "      <td>-0.983594</td>\n",
       "      <td>-1.694170</td>\n",
       "      <td>1.197507</td>\n",
       "      <td>1.044211</td>\n",
       "      <td>0.518777</td>\n",
       "      <td>-0.298612</td>\n",
       "      <td>-0.365174</td>\n",
       "      <td>0.738447</td>\n",
       "      <td>...</td>\n",
       "      <td>-2.624450</td>\n",
       "      <td>-3.200223</td>\n",
       "      <td>0.711422</td>\n",
       "      <td>-0.190394</td>\n",
       "      <td>0.337224</td>\n",
       "      <td>-1.656639</td>\n",
       "      <td>0.707360</td>\n",
       "      <td>-0.562290</td>\n",
       "      <td>1.471181</td>\n",
       "      <td>-0.192000</td>\n",
       "    </tr>\n",
       "  </tbody>\n",
       "</table>\n",
       "<p>5 rows × 1201 columns</p>\n",
       "</div>"
      ],
      "text/plain": [
       "   id       f_0       f_1       f_2       f_3       f_4       f_5       f_6  \\\n",
       "0   1 -3.388242  0.868285 -0.427619 -0.678964 -1.625735  0.262761  1.243040   \n",
       "1   2 -0.496920  0.952381  0.989040  0.451422  0.513516 -0.099658 -1.124326   \n",
       "2   3  1.128369 -0.537951  2.544358  1.165254 -1.904994  0.776961 -0.495768   \n",
       "3   4  0.051253  1.746814  0.681177  1.844524 -0.327977  1.226839 -0.085519   \n",
       "4   5  1.423209 -0.983594 -1.694170  1.197507  1.044211  0.518777 -0.298612   \n",
       "\n",
       "        f_7       f_8  ...    f_1190    f_1191    f_1192    f_1193    f_1194  \\\n",
       "0  1.537751 -0.352028  ... -0.776403 -0.662884 -0.257091 -1.168413  0.223260   \n",
       "1  0.729430 -0.216224  ...  0.379635 -1.760084  1.125450 -0.328047 -0.880305   \n",
       "2  0.060111 -1.418468  ...  1.165254 -1.373589 -0.483701 -0.964782 -0.869555   \n",
       "3  0.379008 -1.003667  ... -0.442288 -2.794472 -0.763468 -0.789832 -0.113209   \n",
       "4 -0.365174  0.738447  ... -2.624450 -3.200223  0.711422 -0.190394  0.337224   \n",
       "\n",
       "     f_1195    f_1196    f_1197    f_1198    f_1199  \n",
       "0 -0.482520 -0.085453 -0.382265 -0.539349 -1.682404  \n",
       "1 -1.257607  0.964312  2.021104  0.655021 -0.423029  \n",
       "2  0.066040 -0.444567 -0.531935 -0.878660  1.099488  \n",
       "3 -2.703150 -2.058728  1.070627 -0.458045 -0.435825  \n",
       "4 -1.656639  0.707360 -0.562290  1.471181 -0.192000  \n",
       "\n",
       "[5 rows x 1201 columns]"
      ]
     },
     "execution_count": 57,
     "metadata": {},
     "output_type": "execute_result"
    }
   ],
   "source": [
    "df2 = pd.read_csv(\"test.csv\")\n",
    "df2.head()"
   ]
  },
  {
   "cell_type": "code",
   "execution_count": 59,
   "metadata": {},
   "outputs": [
    {
     "data": {
      "text/plain": [
       "(2250, 1200)"
      ]
     },
     "execution_count": 59,
     "metadata": {},
     "output_type": "execute_result"
    }
   ],
   "source": [
    "X_test = df2.drop(\"id\",axis=1)\n",
    "X_test.shape"
   ]
  },
  {
   "cell_type": "code",
   "execution_count": 60,
   "metadata": {},
   "outputs": [
    {
     "name": "stdout",
     "output_type": "stream",
     "text": [
      "71/71 [==============================] - 1s 5ms/step\n"
     ]
    }
   ],
   "source": [
    "Y_ans = model.predict(X_test)"
   ]
  },
  {
   "cell_type": "code",
   "execution_count": 65,
   "metadata": {},
   "outputs": [
    {
     "data": {
      "text/plain": [
       "array([[0.5829626 ],\n",
       "       [0.00808257],\n",
       "       [0.9867478 ],\n",
       "       ...,\n",
       "       [0.99220693],\n",
       "       [0.        ],\n",
       "       [0.99220693]], dtype=float32)"
      ]
     },
     "execution_count": 65,
     "metadata": {},
     "output_type": "execute_result"
    }
   ],
   "source": [
    "Y_ans"
   ]
  },
  {
   "cell_type": "code",
   "execution_count": 67,
   "metadata": {},
   "outputs": [
    {
     "data": {
      "text/plain": [
       "(2250,)"
      ]
     },
     "execution_count": 67,
     "metadata": {},
     "output_type": "execute_result"
    }
   ],
   "source": [
    "Y_ans = Y_ans[:,0]\n",
    "Y_ans.shape"
   ]
  },
  {
   "cell_type": "code",
   "execution_count": 69,
   "metadata": {},
   "outputs": [
    {
     "data": {
      "text/plain": [
       "array([0.5829626 , 0.00808257, 0.9867478 , ..., 0.99220693, 0.        ,\n",
       "       0.99220693], dtype=float32)"
      ]
     },
     "execution_count": 69,
     "metadata": {},
     "output_type": "execute_result"
    }
   ],
   "source": [
    "yhat = np.asarray(Y_ans)\n",
    "yhat.shape\n",
    "yhat"
   ]
  },
  {
   "cell_type": "code",
   "execution_count": 71,
   "metadata": {},
   "outputs": [
    {
     "data": {
      "text/plain": [
       "array([0., 0., 1., ..., 1., 0., 1.], dtype=float32)"
      ]
     },
     "execution_count": 71,
     "metadata": {},
     "output_type": "execute_result"
    }
   ],
   "source": [
    "for i in range(2250):\n",
    "    if yhat[i]<=0.65:\n",
    "        yhat[i]=0\n",
    "    else:\n",
    "        yhat[i]=1   \n",
    "yhat "
   ]
  },
  {
   "cell_type": "code",
   "execution_count": 72,
   "metadata": {},
   "outputs": [
    {
     "data": {
      "text/plain": [
       "array([0, 0, 1, ..., 1, 0, 1], dtype=int32)"
      ]
     },
     "execution_count": 72,
     "metadata": {},
     "output_type": "execute_result"
    }
   ],
   "source": [
    "y_res = yhat.astype(\"i\")\n",
    "y_res"
   ]
  },
  {
   "cell_type": "code",
   "execution_count": 73,
   "metadata": {},
   "outputs": [
    {
     "data": {
      "text/plain": [
       "(2250, 2)"
      ]
     },
     "execution_count": 73,
     "metadata": {},
     "output_type": "execute_result"
    }
   ],
   "source": [
    "rows = np.empty((2250,2))\n",
    "rows.shape"
   ]
  },
  {
   "cell_type": "code",
   "execution_count": 74,
   "metadata": {},
   "outputs": [
    {
     "data": {
      "text/plain": [
       "dtype('int32')"
      ]
     },
     "execution_count": 74,
     "metadata": {},
     "output_type": "execute_result"
    }
   ],
   "source": [
    "new_rows = rows.astype('i')\n",
    "new_rows.dtype"
   ]
  },
  {
   "cell_type": "code",
   "execution_count": 75,
   "metadata": {},
   "outputs": [],
   "source": [
    "for i in range(2250):\n",
    "    new_rows[i][0]=i+1\n",
    "    new_rows[i][1]=y_res[i]"
   ]
  },
  {
   "cell_type": "code",
   "execution_count": 76,
   "metadata": {},
   "outputs": [],
   "source": [
    "# writing to CSV\n",
    "\n",
    "\n",
    "import csv\n",
    "\t\n",
    "# field names\n",
    "fields = ['id', 'labels']\n",
    "\t\n",
    "rows = new_rows\n",
    "\t\n",
    "# name of csv file\n",
    "filename = \"solutionbyANN.csv\"\n",
    "\t\n",
    "# writing to csv file \n",
    "with open(filename, 'w',newline = '') as csvfile: \n",
    "    # creating a csv writer object \n",
    "    csvwriter = csv.writer(csvfile) \n",
    "        \n",
    "    # writing the fields \n",
    "    csvwriter.writerow(fields) \n",
    "        \n",
    "    # writing the data rows \n",
    "    csvwriter.writerows(rows)"
   ]
  }
 ],
 "metadata": {
  "interpreter": {
   "hash": "afb734500600fd355917ca529030176ea0ca205570884b88f2f6f7d791fd3fbe"
  },
  "kernelspec": {
   "display_name": "Python 3.10.4 64-bit",
   "language": "python",
   "name": "python3"
  },
  "language_info": {
   "codemirror_mode": {
    "name": "ipython",
    "version": 3
   },
   "file_extension": ".py",
   "mimetype": "text/x-python",
   "name": "python",
   "nbconvert_exporter": "python",
   "pygments_lexer": "ipython3",
   "version": "3.10.4"
  },
  "orig_nbformat": 4
 },
 "nbformat": 4,
 "nbformat_minor": 2
}
